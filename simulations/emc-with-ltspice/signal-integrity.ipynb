{
 "cells": [
  {
   "cell_type": "code",
   "execution_count": 3,
   "metadata": {},
   "outputs": [],
   "source": [
    "import random\n",
    "\n",
    "# Constants\n",
    "NUMBER_OF_SAMPLES = 1000\n",
    "DELAY = 6000\n",
    "\n",
    "# Time domain\n",
    "transition_time = 20  # in nanoSeconds\n",
    "symbol_time = 1_000_000_000 / 115200  # in nanoSeconds\n",
    "pre_emphasis_time = 0.1  # in nanoSeconds\n",
    "\n",
    "# Amplitude domain\n",
    "initial_voltage = 0.0  # in Volts\n",
    "voltage_high = 5.0  # in Volts\n",
    "voltage_low = 0.0  # in Volts\n",
    "\n",
    "pre_emphasis_low_to_high_overshoot_voltage = 0.5  # in volts\n",
    "pre_emphasis_high_to_low_overshoot_voltage = 0.5  # in volts\n",
    "\n"
   ]
  },
  {
   "cell_type": "code",
   "execution_count": 4,
   "metadata": {},
   "outputs": [
    {
     "name": "stdout",
     "output_type": "stream",
     "text": [
      "Symbol time: 8680.56 ns\n"
     ]
    }
   ],
   "source": [
    "# Main program\n",
    "if __name__ == \"__main__\":\n",
    "    with open(\"pwl_vec.txt\", \"w\") as p_file:\n",
    "        # Initialize\n",
    "        p_file.write(f\"0\\t0\\n\")\n",
    "        p_file.write(f\"{DELAY}{\"n\"}\\t{initial_voltage}\\n\")\n",
    "\n",
    "        # Loop for every sample\n",
    "        for sample in range(NUMBER_OF_SAMPLES):\n",
    "            # Compute a sample\n",
    "            logic_level = random.randint(0, 1)\n",
    "\n",
    "            # Print sample\n",
    "            if logic_level == 0:\n",
    "                p_file.write(f\"{(sample * symbol_time) + DELAY + transition_time:.2f}{\"n\"}\\t{voltage_low:.2f}\\n\")\n",
    "                p_file.write(f\"{((sample + 1) * symbol_time) + DELAY - transition_time:.2f}{\"n\"}\\t{voltage_low:.2f}\\n\")\n",
    "            else:\n",
    "                p_file.write(f\"{(sample * symbol_time) + DELAY + transition_time:.2f}{\"n\"}\\t{voltage_high:.2f}\\n\")\n",
    "                p_file.write(f\"{((sample + 1) * symbol_time) + DELAY - transition_time:.2f}{\"n\"}\\t{voltage_high:.2f}\\n\")\n",
    "\n",
    "        print(f\"Symbol time: {symbol_time:.2f} ns\")\n"
   ]
  }
 ],
 "metadata": {
  "kernelspec": {
   "display_name": "Python 3",
   "language": "python",
   "name": "python3"
  },
  "language_info": {
   "codemirror_mode": {
    "name": "ipython",
    "version": 3
   },
   "file_extension": ".py",
   "mimetype": "text/x-python",
   "name": "python",
   "nbconvert_exporter": "python",
   "pygments_lexer": "ipython3",
   "version": "3.12.5"
  }
 },
 "nbformat": 4,
 "nbformat_minor": 2
}
